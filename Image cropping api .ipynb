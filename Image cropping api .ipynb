{
 "cells": [
  {
   "cell_type": "code",
   "execution_count": 2,
   "id": "96bc9b4a",
   "metadata": {},
   "outputs": [
    {
     "name": "stdout",
     "output_type": "stream",
     "text": [
      "(600, 800, 3)\n"
     ]
    },
    {
     "data": {
      "text/plain": [
       "-1"
      ]
     },
     "execution_count": 2,
     "metadata": {},
     "output_type": "execute_result"
    }
   ],
   "source": [
    "#normal ROI implementation\n",
    "import cv2 as cv\n",
    "img= cv.imread('C:/Users/prathmesha/Desktop/Presentation/ford-mustang-the-crew-2-4k.jpg')\n",
    "print(img.shape)\n",
    "# 106=x1,189=y1 663=x2,441=y2\n",
    "#(y1:y2),(x1:x2)\n",
    "roi = img[189:441,106:663]\n",
    "cv.imshow(\"Output:-\",roi)\n",
    "cv.waitKey(0)\n"
   ]
  },
  {
   "cell_type": "code",
   "execution_count": 1,
   "id": "5c2f6d61",
   "metadata": {},
   "outputs": [
    {
     "name": "stdout",
     "output_type": "stream",
     "text": [
      "(111, 200, 542, 232)\n"
     ]
    },
    {
     "data": {
      "text/plain": [
       "-1"
      ]
     },
     "execution_count": 1,
     "metadata": {},
     "output_type": "execute_result"
    }
   ],
   "source": [
    "# Using selectROI function for clicking and draging the mouse to make bounding box on the image . \n",
    "import cv2 as cv\n",
    "img= cv.imread('C:/Users/prathmesha/Desktop/Presentation/ford-mustang-the-crew-2-4k.jpg')\n",
    "roi = cv.selectROI(img)\n",
    "print(roi)\n",
    "crop = img[int(roi[1]):int(roi[1]+roi[3]),\n",
    "        int(roi[0]):int(roi[0]+roi[2])]\n",
    "cv.imshow('cropped img:-',crop)\n",
    "cv.waitKey(0)\n"
   ]
  },
  {
   "cell_type": "code",
   "execution_count": 4,
   "id": "c3edcd34",
   "metadata": {},
   "outputs": [
    {
     "name": "stdout",
     "output_type": "stream",
     "text": [
      "[[115 202 151 222]\n",
      " [266 202 209 235]\n",
      " [476 202 175 237]]\n"
     ]
    },
    {
     "data": {
      "text/plain": [
       "-1"
      ]
     },
     "execution_count": 4,
     "metadata": {},
     "output_type": "execute_result"
    }
   ],
   "source": [
    "# Using selectROIs function for multiple clicking and draging the mouse to make multiple bounding boxes on the image \n",
    "import cv2 as cv\n",
    "img = cv.imread('C:/Users/prathmesha/Desktop/Presentation/ford-mustang-the-crew-2-4k.jpg')\n",
    "roi = cv.selectROIs(\"Select ROIs :-\",img)\n",
    "print(roi)\n",
    "crop_number=0 \n",
    "\n",
    "#loop over every bounding box save in array \"ROIs\"\n",
    "for rect in roi:\n",
    "    x1=rect[0]\n",
    "    y1=rect[1]\n",
    "    x2=rect[2]\n",
    "    y2=rect[3]\n",
    "\n",
    "    #crop roi from original image\n",
    "    img_roi=img[y1:y1+y2,x1:x1+x2]\n",
    "\n",
    "    #show cropped image\n",
    "    cv.imshow(\"crop\"+str(crop_number),img_roi)\n",
    "    \n",
    "    crop_number+=1\n",
    "\n",
    "cv.waitKey(0)\n"
   ]
  },
  {
   "cell_type": "code",
   "execution_count": null,
   "id": "8f3e15ac",
   "metadata": {},
   "outputs": [],
   "source": []
  }
 ],
 "metadata": {
  "kernelspec": {
   "display_name": "Python 3",
   "language": "python",
   "name": "python3"
  },
  "language_info": {
   "codemirror_mode": {
    "name": "ipython",
    "version": 3
   },
   "file_extension": ".py",
   "mimetype": "text/x-python",
   "name": "python",
   "nbconvert_exporter": "python",
   "pygments_lexer": "ipython3",
   "version": "3.8.8"
  }
 },
 "nbformat": 4,
 "nbformat_minor": 5
}
